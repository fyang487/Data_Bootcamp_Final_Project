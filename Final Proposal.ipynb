{
 "cells": [
  {
   "cell_type": "markdown",
   "metadata": {},
   "source": [
    "## Final Proposal: Weather Trends in Major Cities Across the World"
   ]
  },
  {
   "cell_type": "markdown",
   "metadata": {},
   "source": [
    "Researcher: Fan Yang <br>\n",
    "Email: [fan.yang@stern.nyu.edu](fan.yang@stern.nyu.edu)"
   ]
  },
  {
   "cell_type": "markdown",
   "metadata": {},
   "source": [
    "This project will examine trends in weather indicators over the past 20 years in a sample of major cities around the world. Climate change is a widely discussed topic, but the relevant research is usually not easily accessible and relatable for the layperson. I want to examine how the weather patterns have evolved in the last two decades, and visualize these changes in a way that makes its relevance for these cities clear.   \n",
    "\n",
    "The data for this project comes from the [National Oceanic and Atmospheric Administration Data Tool](https://www.ncdc.noaa.gov/cdo-web/datatools/selectlocation), which allows data requests specifying location, time range and variables, and provides the requested data as a csv. This is how I have gotten my data thus far and how I intend to get more data as it becomes necessary. \n",
    "\n",
    "I have selected several cities for analysis, since presenting a map format would require data for every region of the world with the same fineness of data, which would be very difficult if at all possible. My criteria for selecting cities is mainly size and diversity. Choosing big/wellknown cities would make this project interesting and relevant for a wider audience. I also want to include cities in different continents and different climate types, to see whether the weather trends vary by location and climate type over the same observation period. \n",
    "\n",
    "Based on this criteria, my initial list of cities to study is as follows: \n",
    "\n",
    "* New York City (Humid Subtropical climate; urban heat island)\n",
    "* Shanghai (Subtropical Maritime Monsoon climate)\n",
    "* Capetown (Warm Medditerranean climate)\n",
    "* Paris (Temperate Oceanic climate)\n",
    "\n",
    "Other potential cities to study: \n",
    "* Lima, Peru (Subtropical Desert climate, near Humboldt Current)\n",
    "* Lhasa, Tibet, China (combination of/proximity to humid continental, cool semi-arid, subtropical highland climates)\n",
    "* Arctic/Antarctica\n",
    "\n",
    "Some key components I currently envision for the project: \n",
    "* Report basic metrics such as average tempeature and precipitation for each city to establish an understanding of the weather pattern of the location. \n",
    "* Relative metrics, such as percent increase in temperature, precipitation, etc.; temperature volatility (the difference between max and min temperatures). This can be compared across cities.\n",
    "* Present visualizations of impact; e.g. plot temperature increase against increase in temperature volatility, use bubbles to represent cities and compare. \n",
    "\n"
   ]
  },
  {
   "cell_type": "markdown",
   "metadata": {},
   "source": [
    "## Data Report"
   ]
  },
  {
   "cell_type": "markdown",
   "metadata": {},
   "source": [
    "**Overview**:\n",
    "The data for this project comes from the National Oceanic and Atmospheric Administration database. I selected the time range to be 20 years (somewhat arbitrary and may change later on), 1998-01 to 2018-01, and frequency to be monthly. The data is currently in metric units. I've downloaded the requested data from NOAA and will import them as csv files.\n",
    "\n",
    "The database includes many variables; a few key variables for this project are average daily max/min temperatures for the month, total monthly precipitation, any extreme max/min temperatures observed in that month, average windspeed, etc. Many other variables are available and may be incorporated into the analysis later on. Not all variables are available for all locations; I'm still working on cleaning data and figuring out which ones to include. \n",
    "\n",
    "\n"
   ]
  },
  {
   "cell_type": "code",
   "execution_count": 1,
   "metadata": {
    "collapsed": true
   },
   "outputs": [],
   "source": [
    "import pandas as pd\n",
    "import matplotlib.pyplot as plt\n",
    "% matplotlib inline\n",
    "\n",
    "from pandas_datareader import data\n",
    "import datetime as dt"
   ]
  },
  {
   "cell_type": "markdown",
   "metadata": {},
   "source": [
    "Below I import the data I've downloaded, which are in two separate csv files: "
   ]
  },
  {
   "cell_type": "code",
   "execution_count": 2,
   "metadata": {
    "collapsed": true
   },
   "outputs": [],
   "source": [
    "data1 = pd.read_csv(\"~/Desktop/Classes/Data Bootcamp/Data/New York.csv\")"
   ]
  },
  {
   "cell_type": "code",
   "execution_count": 3,
   "metadata": {
    "collapsed": true
   },
   "outputs": [],
   "source": [
    "data2 = pd.read_csv(\"~/Desktop/Classes/Data Bootcamp/Data/Data_5cities.csv\")"
   ]
  },
  {
   "cell_type": "code",
   "execution_count": 4,
   "metadata": {},
   "outputs": [
    {
     "data": {
      "text/plain": [
       "(241, 24)"
      ]
     },
     "execution_count": 4,
     "metadata": {},
     "output_type": "execute_result"
    }
   ],
   "source": [
    "data1.shape"
   ]
  },
  {
   "cell_type": "code",
   "execution_count": 5,
   "metadata": {},
   "outputs": [
    {
     "data": {
      "text/plain": [
       "(960, 18)"
      ]
     },
     "execution_count": 5,
     "metadata": {},
     "output_type": "execute_result"
    }
   ],
   "source": [
    "data2.shape"
   ]
  },
  {
   "cell_type": "markdown",
   "metadata": {},
   "source": [
    "I combine the datasets by appending before I proceed to organizing the data:"
   ]
  },
  {
   "cell_type": "code",
   "execution_count": 6,
   "metadata": {},
   "outputs": [
    {
     "data": {
      "text/plain": [
       "['AWND',\n",
       " 'CDSD',\n",
       " 'DATE',\n",
       " 'DP10',\n",
       " 'DSND',\n",
       " 'DSNW',\n",
       " 'DT32',\n",
       " 'DX90',\n",
       " 'ELEVATION',\n",
       " 'EMNT',\n",
       " 'EMSD',\n",
       " 'EMSN',\n",
       " 'EMXP',\n",
       " 'EMXT',\n",
       " 'HDSD',\n",
       " 'LATITUDE',\n",
       " 'LONGITUDE',\n",
       " 'NAME',\n",
       " 'PRCP',\n",
       " 'SNOW',\n",
       " 'STATION',\n",
       " 'TAVG',\n",
       " 'TMAX',\n",
       " 'TMIN',\n",
       " 'WSF5']"
      ]
     },
     "execution_count": 6,
     "metadata": {},
     "output_type": "execute_result"
    }
   ],
   "source": [
    "data = data1.append(data2)\n",
    "list(data.columns.sort_values())"
   ]
  },
  {
   "cell_type": "code",
   "execution_count": 7,
   "metadata": {
    "collapsed": true
   },
   "outputs": [],
   "source": [
    "data = data.rename(columns = {\n",
    "    'AWND':'Avg Wind Speed',\n",
    "    'DSND':'Snowdepth>1_inch',\n",
    "    'DSNW':'Snowfall>1_inch',\n",
    "    'DT32':'Min_temp<32',\n",
    "    'DX90':'Max_temp>90',\n",
    "    'EMNT':'Extreme_min_temp',\n",
    "    'EMSD':'Max_daily_snowdepth', \n",
    "    'EMSN':'Max_daily_snowfall',\n",
    "    'EMXP':'Max_daily_precip',\n",
    "    'EMXT':'Extreme_max_temp',\n",
    "    'PRCP':'Total_monthly_precip',\n",
    "    'SNOW':'Total_monthly_snowfall',\n",
    "    'TAVG':'T_midpoint',\n",
    "    'TMAX':'Avg_daily_max_temp', \n",
    "    'TMIN':'Avg_daily_min_temp', \n",
    "    'WSF5':'Max_windspeed',\n",
    "    'NAME':'Name', \n",
    "    'DATE':'Date'\n",
    "    \n",
    "})"
   ]
  },
  {
   "cell_type": "code",
   "execution_count": 8,
   "metadata": {},
   "outputs": [
    {
     "data": {
      "text/html": [
       "<div>\n",
       "<style scoped>\n",
       "    .dataframe tbody tr th:only-of-type {\n",
       "        vertical-align: middle;\n",
       "    }\n",
       "\n",
       "    .dataframe tbody tr th {\n",
       "        vertical-align: top;\n",
       "    }\n",
       "\n",
       "    .dataframe thead th {\n",
       "        text-align: right;\n",
       "    }\n",
       "</style>\n",
       "<table border=\"1\" class=\"dataframe\">\n",
       "  <thead>\n",
       "    <tr style=\"text-align: right;\">\n",
       "      <th></th>\n",
       "      <th>Avg Wind Speed</th>\n",
       "      <th>CDSD</th>\n",
       "      <th>Date</th>\n",
       "      <th>DP10</th>\n",
       "      <th>Snowdepth&gt;1_inch</th>\n",
       "      <th>Snowfall&gt;1_inch</th>\n",
       "      <th>Min_temp&lt;32</th>\n",
       "      <th>Max_temp&gt;90</th>\n",
       "      <th>ELEVATION</th>\n",
       "      <th>Extreme_min_temp</th>\n",
       "      <th>...</th>\n",
       "      <th>LATITUDE</th>\n",
       "      <th>LONGITUDE</th>\n",
       "      <th>Name</th>\n",
       "      <th>Total_monthly_precip</th>\n",
       "      <th>Total_monthly_snowfall</th>\n",
       "      <th>STATION</th>\n",
       "      <th>T_midpoint</th>\n",
       "      <th>Avg_daily_max_temp</th>\n",
       "      <th>Avg_daily_min_temp</th>\n",
       "      <th>Max_windspeed</th>\n",
       "    </tr>\n",
       "  </thead>\n",
       "  <tbody>\n",
       "    <tr>\n",
       "      <th>0</th>\n",
       "      <td>3.7</td>\n",
       "      <td>0.0</td>\n",
       "      <td>1998-01</td>\n",
       "      <td>NaN</td>\n",
       "      <td>NaN</td>\n",
       "      <td>0.0</td>\n",
       "      <td>13.0</td>\n",
       "      <td>0.0</td>\n",
       "      <td>42.7</td>\n",
       "      <td>-10.0</td>\n",
       "      <td>...</td>\n",
       "      <td>40.77898</td>\n",
       "      <td>-73.96925</td>\n",
       "      <td>NY CITY CENTRAL PARK, NY US</td>\n",
       "      <td>132.1</td>\n",
       "      <td>13.0</td>\n",
       "      <td>USW00094728</td>\n",
       "      <td>4.4</td>\n",
       "      <td>7.7</td>\n",
       "      <td>1.2</td>\n",
       "      <td>17.9</td>\n",
       "    </tr>\n",
       "    <tr>\n",
       "      <th>1</th>\n",
       "      <td>3.9</td>\n",
       "      <td>0.0</td>\n",
       "      <td>1998-02</td>\n",
       "      <td>NaN</td>\n",
       "      <td>NaN</td>\n",
       "      <td>0.0</td>\n",
       "      <td>9.0</td>\n",
       "      <td>0.0</td>\n",
       "      <td>42.7</td>\n",
       "      <td>-8.3</td>\n",
       "      <td>...</td>\n",
       "      <td>40.77898</td>\n",
       "      <td>-73.96925</td>\n",
       "      <td>NY CITY CENTRAL PARK, NY US</td>\n",
       "      <td>147.6</td>\n",
       "      <td>0.0</td>\n",
       "      <td>USW00094728</td>\n",
       "      <td>4.8</td>\n",
       "      <td>7.9</td>\n",
       "      <td>1.7</td>\n",
       "      <td>23.2</td>\n",
       "    </tr>\n",
       "    <tr>\n",
       "      <th>2</th>\n",
       "      <td>3.7</td>\n",
       "      <td>18.9</td>\n",
       "      <td>1998-03</td>\n",
       "      <td>NaN</td>\n",
       "      <td>NaN</td>\n",
       "      <td>1.0</td>\n",
       "      <td>9.0</td>\n",
       "      <td>0.0</td>\n",
       "      <td>42.7</td>\n",
       "      <td>-7.2</td>\n",
       "      <td>...</td>\n",
       "      <td>40.77898</td>\n",
       "      <td>-73.96925</td>\n",
       "      <td>NY CITY CENTRAL PARK, NY US</td>\n",
       "      <td>129.2</td>\n",
       "      <td>127.0</td>\n",
       "      <td>USW00094728</td>\n",
       "      <td>7.4</td>\n",
       "      <td>11.2</td>\n",
       "      <td>3.7</td>\n",
       "      <td>20.1</td>\n",
       "    </tr>\n",
       "    <tr>\n",
       "      <th>3</th>\n",
       "      <td>3.0</td>\n",
       "      <td>18.9</td>\n",
       "      <td>1998-04</td>\n",
       "      <td>NaN</td>\n",
       "      <td>NaN</td>\n",
       "      <td>0.0</td>\n",
       "      <td>0.0</td>\n",
       "      <td>0.0</td>\n",
       "      <td>42.7</td>\n",
       "      <td>2.2</td>\n",
       "      <td>...</td>\n",
       "      <td>40.77898</td>\n",
       "      <td>-73.96925</td>\n",
       "      <td>NY CITY CENTRAL PARK, NY US</td>\n",
       "      <td>179.2</td>\n",
       "      <td>0.0</td>\n",
       "      <td>USW00094728</td>\n",
       "      <td>12.2</td>\n",
       "      <td>16.9</td>\n",
       "      <td>7.6</td>\n",
       "      <td>22.8</td>\n",
       "    </tr>\n",
       "    <tr>\n",
       "      <th>4</th>\n",
       "      <td>3.0</td>\n",
       "      <td>66.1</td>\n",
       "      <td>1998-05</td>\n",
       "      <td>NaN</td>\n",
       "      <td>0.0</td>\n",
       "      <td>0.0</td>\n",
       "      <td>0.0</td>\n",
       "      <td>0.0</td>\n",
       "      <td>42.7</td>\n",
       "      <td>6.7</td>\n",
       "      <td>...</td>\n",
       "      <td>40.77898</td>\n",
       "      <td>-73.96925</td>\n",
       "      <td>NY CITY CENTRAL PARK, NY US</td>\n",
       "      <td>176.4</td>\n",
       "      <td>0.0</td>\n",
       "      <td>USW00094728</td>\n",
       "      <td>18.0</td>\n",
       "      <td>22.4</td>\n",
       "      <td>13.5</td>\n",
       "      <td>16.5</td>\n",
       "    </tr>\n",
       "  </tbody>\n",
       "</table>\n",
       "<p>5 rows × 25 columns</p>\n",
       "</div>"
      ],
      "text/plain": [
       "   Avg Wind Speed  CDSD     Date  DP10  Snowdepth>1_inch  Snowfall>1_inch  \\\n",
       "0             3.7   0.0  1998-01   NaN               NaN              0.0   \n",
       "1             3.9   0.0  1998-02   NaN               NaN              0.0   \n",
       "2             3.7  18.9  1998-03   NaN               NaN              1.0   \n",
       "3             3.0  18.9  1998-04   NaN               NaN              0.0   \n",
       "4             3.0  66.1  1998-05   NaN               0.0              0.0   \n",
       "\n",
       "   Min_temp<32  Max_temp>90  ELEVATION  Extreme_min_temp      ...        \\\n",
       "0         13.0          0.0       42.7             -10.0      ...         \n",
       "1          9.0          0.0       42.7              -8.3      ...         \n",
       "2          9.0          0.0       42.7              -7.2      ...         \n",
       "3          0.0          0.0       42.7               2.2      ...         \n",
       "4          0.0          0.0       42.7               6.7      ...         \n",
       "\n",
       "   LATITUDE  LONGITUDE                         Name  Total_monthly_precip  \\\n",
       "0  40.77898  -73.96925  NY CITY CENTRAL PARK, NY US                 132.1   \n",
       "1  40.77898  -73.96925  NY CITY CENTRAL PARK, NY US                 147.6   \n",
       "2  40.77898  -73.96925  NY CITY CENTRAL PARK, NY US                 129.2   \n",
       "3  40.77898  -73.96925  NY CITY CENTRAL PARK, NY US                 179.2   \n",
       "4  40.77898  -73.96925  NY CITY CENTRAL PARK, NY US                 176.4   \n",
       "\n",
       "   Total_monthly_snowfall      STATION  T_midpoint Avg_daily_max_temp  \\\n",
       "0                    13.0  USW00094728         4.4                7.7   \n",
       "1                     0.0  USW00094728         4.8                7.9   \n",
       "2                   127.0  USW00094728         7.4               11.2   \n",
       "3                     0.0  USW00094728        12.2               16.9   \n",
       "4                     0.0  USW00094728        18.0               22.4   \n",
       "\n",
       "   Avg_daily_min_temp  Max_windspeed  \n",
       "0                 1.2           17.9  \n",
       "1                 1.7           23.2  \n",
       "2                 3.7           20.1  \n",
       "3                 7.6           22.8  \n",
       "4                13.5           16.5  \n",
       "\n",
       "[5 rows x 25 columns]"
      ]
     },
     "execution_count": 8,
     "metadata": {},
     "output_type": "execute_result"
    }
   ],
   "source": [
    "data.head()"
   ]
  },
  {
   "cell_type": "markdown",
   "metadata": {},
   "source": [
    "Rename the \"Name\" column to the city names: "
   ]
  },
  {
   "cell_type": "code",
   "execution_count": 9,
   "metadata": {},
   "outputs": [
    {
     "data": {
      "text/plain": [
       "array(['NY CITY CENTRAL PARK, NY US', 'CAPE TOWN INTERNATIONAL, SF',\n",
       "       'LANZHOU, CH', 'PARIS LE BOURGET, FR', 'LHASA, CH', 'SHANGHAI, CH'], dtype=object)"
      ]
     },
     "execution_count": 9,
     "metadata": {},
     "output_type": "execute_result"
    }
   ],
   "source": [
    "data.Name.unique()"
   ]
  },
  {
   "cell_type": "code",
   "execution_count": 10,
   "metadata": {
    "collapsed": true
   },
   "outputs": [],
   "source": [
    "data.Name.replace([\"NY CITY CENTRAL PARK, NY US\", 'CAPE TOWN INTERNATIONAL, SF', 'LANZHOU, CH',\n",
    "       'PARIS LE BOURGET, FR', 'LHASA, CH', 'SHANGHAI, CH'] , \n",
    "                       [\"New York\", \"Cape_Town\", \"Lanzhou\", \"Paris\", \"Lhasa\", \"Shanghai\"], inplace = True)"
   ]
  },
  {
   "cell_type": "markdown",
   "metadata": {},
   "source": [
    "The data is very messy; I will make separate dataframes for different variable categories, like temperature related or precipitation related. "
   ]
  },
  {
   "cell_type": "code",
   "execution_count": 11,
   "metadata": {
    "collapsed": true
   },
   "outputs": [],
   "source": [
    "data[\"Temp_diff\"] = data[\"Avg_daily_max_temp\"]/data[\"Avg_daily_min_temp\"]"
   ]
  },
  {
   "cell_type": "code",
   "execution_count": 12,
   "metadata": {
    "collapsed": true
   },
   "outputs": [],
   "source": [
    "temp_data = data[[\"Name\",\"Date\", 'T_midpoint','Avg_daily_max_temp', 'Avg_daily_min_temp', \"Temp_diff\",'Extreme_max_temp', 'Extreme_min_temp' ]]"
   ]
  },
  {
   "cell_type": "code",
   "execution_count": 14,
   "metadata": {
    "collapsed": true
   },
   "outputs": [],
   "source": [
    "temp_data = temp_data.groupby(temp_data[\"Name\"])"
   ]
  },
  {
   "cell_type": "code",
   "execution_count": 15,
   "metadata": {},
   "outputs": [
    {
     "data": {
      "text/html": [
       "<div>\n",
       "<style scoped>\n",
       "    .dataframe tbody tr th:only-of-type {\n",
       "        vertical-align: middle;\n",
       "    }\n",
       "\n",
       "    .dataframe tbody tr th {\n",
       "        vertical-align: top;\n",
       "    }\n",
       "\n",
       "    .dataframe thead th {\n",
       "        text-align: right;\n",
       "    }\n",
       "</style>\n",
       "<table border=\"1\" class=\"dataframe\">\n",
       "  <thead>\n",
       "    <tr style=\"text-align: right;\">\n",
       "      <th></th>\n",
       "      <th>Name</th>\n",
       "      <th>Date</th>\n",
       "      <th>T_midpoint</th>\n",
       "      <th>Avg_daily_max_temp</th>\n",
       "      <th>Avg_daily_min_temp</th>\n",
       "      <th>Temp_diff</th>\n",
       "      <th>Extreme_max_temp</th>\n",
       "      <th>Extreme_min_temp</th>\n",
       "    </tr>\n",
       "  </thead>\n",
       "  <tbody>\n",
       "    <tr>\n",
       "      <th>0</th>\n",
       "      <td>New York</td>\n",
       "      <td>1998-01</td>\n",
       "      <td>4.4</td>\n",
       "      <td>7.7</td>\n",
       "      <td>1.2</td>\n",
       "      <td>6.416667</td>\n",
       "      <td>18.3</td>\n",
       "      <td>-10.0</td>\n",
       "    </tr>\n",
       "    <tr>\n",
       "      <th>1</th>\n",
       "      <td>New York</td>\n",
       "      <td>1998-02</td>\n",
       "      <td>4.8</td>\n",
       "      <td>7.9</td>\n",
       "      <td>1.7</td>\n",
       "      <td>4.647059</td>\n",
       "      <td>14.4</td>\n",
       "      <td>-8.3</td>\n",
       "    </tr>\n",
       "    <tr>\n",
       "      <th>0</th>\n",
       "      <td>Cape_Town</td>\n",
       "      <td>1998-01</td>\n",
       "      <td>NaN</td>\n",
       "      <td>27.2</td>\n",
       "      <td>NaN</td>\n",
       "      <td>NaN</td>\n",
       "      <td>36.5</td>\n",
       "      <td>NaN</td>\n",
       "    </tr>\n",
       "    <tr>\n",
       "      <th>1</th>\n",
       "      <td>Cape_Town</td>\n",
       "      <td>1998-02</td>\n",
       "      <td>23.6</td>\n",
       "      <td>29.9</td>\n",
       "      <td>17.2</td>\n",
       "      <td>1.738372</td>\n",
       "      <td>35.2</td>\n",
       "      <td>10.9</td>\n",
       "    </tr>\n",
       "    <tr>\n",
       "      <th>201</th>\n",
       "      <td>Lanzhou</td>\n",
       "      <td>1998-01</td>\n",
       "      <td>-4.8</td>\n",
       "      <td>1.0</td>\n",
       "      <td>-10.5</td>\n",
       "      <td>-0.095238</td>\n",
       "      <td>8.6</td>\n",
       "      <td>-16.8</td>\n",
       "    </tr>\n",
       "    <tr>\n",
       "      <th>202</th>\n",
       "      <td>Lanzhou</td>\n",
       "      <td>1998-02</td>\n",
       "      <td>3.0</td>\n",
       "      <td>9.0</td>\n",
       "      <td>-3.1</td>\n",
       "      <td>-2.903226</td>\n",
       "      <td>15.1</td>\n",
       "      <td>-10.6</td>\n",
       "    </tr>\n",
       "    <tr>\n",
       "      <th>333</th>\n",
       "      <td>Paris</td>\n",
       "      <td>1998-01</td>\n",
       "      <td>5.8</td>\n",
       "      <td>8.4</td>\n",
       "      <td>3.1</td>\n",
       "      <td>2.709677</td>\n",
       "      <td>15.9</td>\n",
       "      <td>-4.8</td>\n",
       "    </tr>\n",
       "    <tr>\n",
       "      <th>334</th>\n",
       "      <td>Paris</td>\n",
       "      <td>1998-02</td>\n",
       "      <td>7.2</td>\n",
       "      <td>10.9</td>\n",
       "      <td>3.5</td>\n",
       "      <td>3.114286</td>\n",
       "      <td>17.6</td>\n",
       "      <td>-4.8</td>\n",
       "    </tr>\n",
       "    <tr>\n",
       "      <th>540</th>\n",
       "      <td>Lhasa</td>\n",
       "      <td>1998-01</td>\n",
       "      <td>0.5</td>\n",
       "      <td>8.6</td>\n",
       "      <td>-7.7</td>\n",
       "      <td>-1.116883</td>\n",
       "      <td>14.1</td>\n",
       "      <td>-11.5</td>\n",
       "    </tr>\n",
       "    <tr>\n",
       "      <th>541</th>\n",
       "      <td>Lhasa</td>\n",
       "      <td>1998-02</td>\n",
       "      <td>3.0</td>\n",
       "      <td>10.0</td>\n",
       "      <td>-4.1</td>\n",
       "      <td>-2.439024</td>\n",
       "      <td>15.5</td>\n",
       "      <td>-9.9</td>\n",
       "    </tr>\n",
       "    <tr>\n",
       "      <th>757</th>\n",
       "      <td>Shanghai</td>\n",
       "      <td>1998-01</td>\n",
       "      <td>5.0</td>\n",
       "      <td>8.0</td>\n",
       "      <td>2.1</td>\n",
       "      <td>3.809524</td>\n",
       "      <td>16.7</td>\n",
       "      <td>-4.4</td>\n",
       "    </tr>\n",
       "    <tr>\n",
       "      <th>758</th>\n",
       "      <td>Shanghai</td>\n",
       "      <td>1998-02</td>\n",
       "      <td>8.0</td>\n",
       "      <td>11.2</td>\n",
       "      <td>4.9</td>\n",
       "      <td>2.285714</td>\n",
       "      <td>26.4</td>\n",
       "      <td>-1.9</td>\n",
       "    </tr>\n",
       "  </tbody>\n",
       "</table>\n",
       "</div>"
      ],
      "text/plain": [
       "          Name     Date  T_midpoint  Avg_daily_max_temp  Avg_daily_min_temp  \\\n",
       "0     New York  1998-01         4.4                 7.7                 1.2   \n",
       "1     New York  1998-02         4.8                 7.9                 1.7   \n",
       "0    Cape_Town  1998-01         NaN                27.2                 NaN   \n",
       "1    Cape_Town  1998-02        23.6                29.9                17.2   \n",
       "201    Lanzhou  1998-01        -4.8                 1.0               -10.5   \n",
       "202    Lanzhou  1998-02         3.0                 9.0                -3.1   \n",
       "333      Paris  1998-01         5.8                 8.4                 3.1   \n",
       "334      Paris  1998-02         7.2                10.9                 3.5   \n",
       "540      Lhasa  1998-01         0.5                 8.6                -7.7   \n",
       "541      Lhasa  1998-02         3.0                10.0                -4.1   \n",
       "757   Shanghai  1998-01         5.0                 8.0                 2.1   \n",
       "758   Shanghai  1998-02         8.0                11.2                 4.9   \n",
       "\n",
       "     Temp_diff  Extreme_max_temp  Extreme_min_temp  \n",
       "0     6.416667              18.3             -10.0  \n",
       "1     4.647059              14.4              -8.3  \n",
       "0          NaN              36.5               NaN  \n",
       "1     1.738372              35.2              10.9  \n",
       "201  -0.095238               8.6             -16.8  \n",
       "202  -2.903226              15.1             -10.6  \n",
       "333   2.709677              15.9              -4.8  \n",
       "334   3.114286              17.6              -4.8  \n",
       "540  -1.116883              14.1             -11.5  \n",
       "541  -2.439024              15.5              -9.9  \n",
       "757   3.809524              16.7              -4.4  \n",
       "758   2.285714              26.4              -1.9  "
      ]
     },
     "execution_count": 15,
     "metadata": {},
     "output_type": "execute_result"
    }
   ],
   "source": [
    "temp_data.head(2)"
   ]
  },
  {
   "cell_type": "code",
   "execution_count": 17,
   "metadata": {},
   "outputs": [
    {
     "data": {
      "text/plain": [
       "Name\n",
       "Cape_Town    20.245455\n",
       "Lanzhou      11.035606\n",
       "Lhasa         9.796277\n",
       "New York     13.143154\n",
       "Paris        14.805000\n",
       "Shanghai     17.628889\n",
       "Name: T_midpoint, dtype: float64"
      ]
     },
     "execution_count": 17,
     "metadata": {},
     "output_type": "execute_result"
    }
   ],
   "source": [
    "temp_data.T_midpoint.mean()"
   ]
  },
  {
   "cell_type": "markdown",
   "metadata": {},
   "source": [
    "## Summary"
   ]
  },
  {
   "cell_type": "markdown",
   "metadata": {},
   "source": [
    "I think have the data necessary to proceed with the project. I still need to finetune the dataset, build separate dataframes for other variable categories like I did for temperature, and figure out how to deal with incomplete series (NaNs appearing for different locations in different variables)."
   ]
  }
 ],
 "metadata": {
  "kernelspec": {
   "display_name": "Python 3",
   "language": "python",
   "name": "python3"
  },
  "language_info": {
   "codemirror_mode": {
    "name": "ipython",
    "version": 3
   },
   "file_extension": ".py",
   "mimetype": "text/x-python",
   "name": "python",
   "nbconvert_exporter": "python",
   "pygments_lexer": "ipython3",
   "version": "3.6.5"
  }
 },
 "nbformat": 4,
 "nbformat_minor": 2
}
